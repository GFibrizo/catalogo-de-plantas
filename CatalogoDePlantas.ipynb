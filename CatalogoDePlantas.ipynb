{
 "cells": [
  {
   "cell_type": "code",
   "execution_count": 41,
   "id": "cultural-album",
   "metadata": {},
   "outputs": [],
   "source": [
    "import pandas as pd\n",
    "import json"
   ]
  },
  {
   "cell_type": "markdown",
   "id": "defined-madison",
   "metadata": {},
   "source": [
    "# CATÁLOGO DE LAS PLANTAS VASCULARES"
   ]
  },
  {
   "cell_type": "markdown",
   "id": "exceptional-bracket",
   "metadata": {},
   "source": [
    "## Carga de datos"
   ]
  },
  {
   "cell_type": "markdown",
   "id": "respective-facility",
   "metadata": {},
   "source": [
    "- `familias.json`: Contiene la relación entre familia sus generos\n",
    "- `generos.json`: Contiene la relación entre genero y sus especies\n",
    "- `distribucion_especies.json`: Contiene la relación entre especie y las zonas geograficas donde aparece\n",
    "- `especies.json`: Contiene información detallada acerca de cada especie "
   ]
  },
  {
   "cell_type": "code",
   "execution_count": 46,
   "id": "confidential-relief",
   "metadata": {},
   "outputs": [],
   "source": [
    "with open('./familias.json') as familias_json:\n",
    "    familias = json.load(familias_json)\n",
    "with open('./generos.json') as generos_json:\n",
    "    generos = json.load(generos_json)\n",
    "with open('./distribucion_especies.json') as distribucion_especies_json:\n",
    "    distribucion_especies = json.load(distribucion_especies_json)\n",
    "with open('./especies.json') as especies_json:\n",
    "    especies = json.load(especies_json)"
   ]
  },
  {
   "cell_type": "markdown",
   "id": "comfortable-rebate",
   "metadata": {},
   "source": [
    "## Consulta de datos"
   ]
  },
  {
   "cell_type": "markdown",
   "id": "determined-drinking",
   "metadata": {},
   "source": [
    "### Consulta de familias de plantas\n",
    "\n",
    "Para obtener los **géneros** correspondientes a una determinada **familia** de planta, ejecutar la consulta de la siguiente manera:\n",
    "\n",
    "```\n",
    "familias['NOMBRE_DE_LA_FAMILIA']\n",
    "```\n",
    "\n",
    "Para obtener una lista con todas las familias, ejecutar\n",
    "\n",
    "```\n",
    "familias.keys()\n",
    "```"
   ]
  },
  {
   "cell_type": "code",
   "execution_count": 64,
   "id": "independent-basis",
   "metadata": {},
   "outputs": [
    {
     "data": {
      "text/plain": [
       "['Abildgaardia',\n",
       " 'Amphiscirpus',\n",
       " 'Androtrichum',\n",
       " 'Becquerelia',\n",
       " 'Bolboschoenus',\n",
       " 'Bulbostylis',\n",
       " 'Calyptrocarya',\n",
       " 'Carex',\n",
       " 'Carpha',\n",
       " 'Cladium',\n",
       " 'Cryptangium',\n",
       " 'Cyperus',\n",
       " 'Eleocharis',\n",
       " 'Ficinia',\n",
       " 'Fimbristylis',\n",
       " 'Fuirena',\n",
       " 'Hypolytrum',\n",
       " 'Isolepis',\n",
       " 'Lagenocarpus',\n",
       " 'Machaerina',\n",
       " 'Oreobolus',\n",
       " 'Oxycaryum',\n",
       " 'Phylloscirpus',\n",
       " 'Pleurostachys',\n",
       " 'Remirea',\n",
       " 'Rhodoscirpus',\n",
       " 'Rhynchospora',\n",
       " 'Schoenoplectiella',\n",
       " 'Schoenoplectus',\n",
       " 'Schoenus',\n",
       " 'Scirpus',\n",
       " 'Scleria',\n",
       " 'Trichophorum',\n",
       " 'Zameioscirpus']"
      ]
     },
     "execution_count": 64,
     "metadata": {},
     "output_type": "execute_result"
    }
   ],
   "source": [
    "familias['Cyperaceae']"
   ]
  },
  {
   "cell_type": "markdown",
   "id": "sweet-jason",
   "metadata": {},
   "source": [
    "### Consulta de géneros de plantas\n",
    "\n",
    "Para obtener las **especies** correspondientes a un determinado **género** de planta, ejecutar la consulta de la siguiente manera:\n",
    "\n",
    "```\n",
    "generos['NOMBRE_DEL_GENERO']\n",
    "```\n",
    "\n",
    "Para obtener una lista con todos los generos, ejecutar\n",
    "\n",
    "```\n",
    "generos.keys()\n",
    "```"
   ]
  },
  {
   "cell_type": "code",
   "execution_count": 53,
   "id": "distinguished-distribution",
   "metadata": {},
   "outputs": [
    {
     "data": {
      "text/plain": [
       "['ovata']"
      ]
     },
     "execution_count": 53,
     "metadata": {},
     "output_type": "execute_result"
    }
   ],
   "source": [
    "generos['Abildgaardia']"
   ]
  },
  {
   "cell_type": "markdown",
   "id": "important-acrylic",
   "metadata": {},
   "source": [
    "### Consulta de distribución geográfica de especies de plantas\n",
    "\n",
    "Para obtener las **zonas geográficas** correspondientes a una determinada **especie** de planta, ejecutar la consulta de la siguiente manera:\n",
    "\n",
    "```\n",
    "especies['NOMBRE_DE_LA_ESPECIE']\n",
    "```\n",
    "\n",
    "Para obtener una lista con todas las especies, ejecutar\n",
    "\n",
    "```\n",
    "especies.keys()\n",
    "```"
   ]
  },
  {
   "cell_type": "markdown",
   "id": "awful-gilbert",
   "metadata": {},
   "source": [
    "#### Códigos de zonas:\n",
    "\n",
    "- **BAI:** Buenos Aires\n",
    "- **CAT:** Catamarca\n",
    "- **CHA:** Chaco\n",
    "- **CHU:** Chubut\n",
    "- **COR:** Córdoba\n",
    "- **COS:** Corrientes\n",
    "- **DFE:** Distrito Federal\n",
    "- **ERI:** Entre Ríos\n",
    "- **FOR:** Formosa\n",
    "- **JUJ:** Jujuy\n",
    "- **LPA:** La Pampa\n",
    "- **LRI:** La Rioja\n",
    "- **MEN:** Mendoza\n",
    "- **MIS:** Misiones\n",
    "- **NEU:** Neuquén\n",
    "- **RNE:** Río Negro\n",
    "- **SAL:** Salta\n",
    "- **SCR:** Santa Cruz\n",
    "- **SDE:** Sgo. del Estero\n",
    "- **SFE:** Santa Fe\n",
    "- **SJU:** San Juan\n",
    "- **SLU:** San Luis\n",
    "- **TDF:** Tierra del Fuego\n",
    "- **TUC:** Tucumán"
   ]
  },
  {
   "cell_type": "code",
   "execution_count": 59,
   "id": "forbidden-medication",
   "metadata": {},
   "outputs": [
    {
     "data": {
      "text/plain": [
       "{'ARG': ['CHA', 'COS', 'ERI', 'FOR', 'JUJ', 'MIS', 'SAL', 'SFE', 'TUC'],\n",
       " 'BRA': ['PAR', 'RGS', 'SCA'],\n",
       " 'PRY': ['APY', 'AMA', 'CAU', 'CON', 'GUA', 'PHA', 'SPE'],\n",
       " 'URY': ['ART',\n",
       "  'CAS',\n",
       "  'CLA',\n",
       "  'DUR',\n",
       "  'MON',\n",
       "  'PAY',\n",
       "  'RNO',\n",
       "  'ROC',\n",
       "  'SAO',\n",
       "  'SOR',\n",
       "  'TAC',\n",
       "  'TYT']}"
      ]
     },
     "execution_count": 59,
     "metadata": {},
     "output_type": "execute_result"
    }
   ],
   "source": [
    "distribucion_especies['Abildgaardia ovata']"
   ]
  },
  {
   "cell_type": "markdown",
   "id": "exposed-behalf",
   "metadata": {},
   "source": [
    "### Consulta de información sobre especies de plantas\n",
    "\n",
    "Para obtener información detallada correspondiente a una determinada **especie** de planta, ejecutar la consulta de la siguiente manera:\n",
    "\n",
    "```\n",
    "especies['NOMBRE_DE_LA_ESPECIE']\n",
    "```\n",
    "\n",
    "Para obtener una lista con todas las especies, ejecutar\n",
    "\n",
    "```\n",
    "especies.keys()\n",
    "```"
   ]
  },
  {
   "cell_type": "code",
   "execution_count": 60,
   "id": "accessory-contemporary",
   "metadata": {},
   "outputs": [
    {
     "data": {
      "text/plain": [
       "{'Familia': 'Cyperaceae',\n",
       " 'Género': 'Abildgaardia',\n",
       " 'Especie': 'ovata',\n",
       " 'Sigla sp.': '(Burm. f.) Kral',\n",
       " 'Subespecie': '',\n",
       " 'Sigla ssp.': '-',\n",
       " 'Variedad': '',\n",
       " 'Sigla var.': '-',\n",
       " 'Forma': '',\n",
       " 'Sigla f.': '-',\n",
       " 'Publicado en': '-',\n",
       " 'Volumen': '-',\n",
       " 'Páginas': '-',\n",
       " 'Año': '-',\n",
       " 'Hábito': 'Hierba Perenne',\n",
       " 'Status': 'Nativa          ',\n",
       " 'Elevación (m s.m.)': 'Altura Min. 0 - Altura Máx. 1500',\n",
       " 'Distribución Argentina': ' Chaco, Corrientes, Entre Ríos, Formosa, Jujuy, Misiones, Salta, Santa Fe, Tucumán',\n",
       " 'Distribución Misiones': ' Candelaria, Capital',\n",
       " 'Paises limítrofes': ' Brasil, Paraguay, Uruguay',\n",
       " 'Distribución Brasil': 'Parana, Rio Grande Do Sul, Santa Catarina',\n",
       " 'Distribución Paraguay': ' Alto Paraguay, Amambay, Caaguazú, Concepción, Guairá, Presidente Hayes, SanPedro',\n",
       " 'Distribución Uruguay': 'Artigas, Canelones, Cerro Largo, Durazno, Montevideo, Paysandú, Río Negro, Rocha, Salto, Soriano, Tacuarembó, T.y T. Orientales',\n",
       " 'Notas': ''}"
      ]
     },
     "execution_count": 60,
     "metadata": {},
     "output_type": "execute_result"
    }
   ],
   "source": [
    "especies['Abildgaardia ovata']"
   ]
  },
  {
   "cell_type": "code",
   "execution_count": null,
   "id": "pleased-familiar",
   "metadata": {},
   "outputs": [],
   "source": []
  }
 ],
 "metadata": {
  "kernelspec": {
   "display_name": "Python 3",
   "language": "python",
   "name": "python3"
  },
  "language_info": {
   "codemirror_mode": {
    "name": "ipython",
    "version": 3
   },
   "file_extension": ".py",
   "mimetype": "text/x-python",
   "name": "python",
   "nbconvert_exporter": "python",
   "pygments_lexer": "ipython3",
   "version": "3.6.9"
  }
 },
 "nbformat": 4,
 "nbformat_minor": 5
}
